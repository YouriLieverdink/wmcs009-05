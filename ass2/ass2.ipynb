{
 "cells": [
  {
   "cell_type": "code",
   "execution_count": 102,
   "metadata": {},
   "outputs": [],
   "source": [
    "def count_apperance(result_list,data):\n",
    "    c = []\n",
    "    for i in result_list:\n",
    "        c.append((i,0))\n",
    "\n",
    "    for i in range(len(c)):\n",
    "        for j in range(len(data)):\n",
    "            if c[i][0].issubset(data[j][1]):\n",
    "                c[i] = (c[i][0],c[i][1]+1)\n",
    "    return c"
   ]
  },
  {
   "cell_type": "code",
   "execution_count": 103,
   "metadata": {},
   "outputs": [
    {
     "ename": "TypeError",
     "evalue": "self_join() missing 1 required positional argument: 'support'",
     "output_type": "error",
     "traceback": [
      "\u001b[0;31m---------------------------------------------------------------------------\u001b[0m",
      "\u001b[0;31mTypeError\u001b[0m                                 Traceback (most recent call last)",
      "\u001b[1;32m/home/keeswie/Documents/school/jaar4/IS/wmcs009-05/ass2/ass2.ipynb Cell 2\u001b[0m line \u001b[0;36m4\n\u001b[1;32m     <a href='vscode-notebook-cell:/home/keeswie/Documents/school/jaar4/IS/wmcs009-05/ass2/ass2.ipynb#W1sZmlsZQ%3D%3D?line=32'>33</a>\u001b[0m     \u001b[39mreturn\u001b[39;00m prune(k, result_list, new)\n\u001b[1;32m     <a href='vscode-notebook-cell:/home/keeswie/Documents/school/jaar4/IS/wmcs009-05/ass2/ass2.ipynb#W1sZmlsZQ%3D%3D?line=37'>38</a>\u001b[0m c \u001b[39m=\u001b[39m [({\u001b[39m1\u001b[39m,\u001b[39m2\u001b[39m,\u001b[39m3\u001b[39m},\u001b[39m2\u001b[39m),({\u001b[39m1\u001b[39m,\u001b[39m2\u001b[39m,\u001b[39m4\u001b[39m},\u001b[39m2\u001b[39m),({\u001b[39m1\u001b[39m,\u001b[39m3\u001b[39m,\u001b[39m4\u001b[39m},\u001b[39m2\u001b[39m),({\u001b[39m1\u001b[39m,\u001b[39m3\u001b[39m,\u001b[39m5\u001b[39m},\u001b[39m2\u001b[39m),({\u001b[39m2\u001b[39m,\u001b[39m3\u001b[39m,\u001b[39m4\u001b[39m},\u001b[39m2\u001b[39m)]\n\u001b[0;32m---> <a href='vscode-notebook-cell:/home/keeswie/Documents/school/jaar4/IS/wmcs009-05/ass2/ass2.ipynb#W1sZmlsZQ%3D%3D?line=39'>40</a>\u001b[0m result_list \u001b[39m=\u001b[39m self_join(\u001b[39m2\u001b[39;49m, c)\n\u001b[1;32m     <a href='vscode-notebook-cell:/home/keeswie/Documents/school/jaar4/IS/wmcs009-05/ass2/ass2.ipynb#W1sZmlsZQ%3D%3D?line=40'>41</a>\u001b[0m \u001b[39mprint\u001b[39m(result_list)\n",
      "\u001b[0;31mTypeError\u001b[0m: self_join() missing 1 required positional argument: 'support'"
     ]
    }
   ],
   "source": [
    "from itertools import combinations\n",
    "\n",
    "def prune(k, result_list, new):\n",
    "    for i in result_list:\n",
    "        subsets = set(combinations(i, 3))\n",
    "        for j in subsets:\n",
    "            j = set(j)\n",
    "            if j not in new:\n",
    "                result_list.remove(i)\n",
    "                break\n",
    "    return result_list\n",
    "\n",
    "def self_join(k, c, support):\n",
    "    l = [item for item in c if item[1] >= support]\n",
    "    new = [i[0] for i in l]\n",
    "    result_list = []\n",
    "    for i in range(len(new)):\n",
    "        for j in range(i+1, len(new)):\n",
    "                    temp1 = list(new[i])\n",
    "                    temp2 = list(new[j])\n",
    "                    if(temp1[0:k-1] == temp2[0:k-1]):\n",
    "                        joined = set(temp1 + temp2)\n",
    "                        result_list.append(joined)\n",
    "                        \n",
    "                        #second step of pruning is still missing see slide 39\n",
    "    for i in result_list:\n",
    "        subsets = set(combinations(i, 3))\n",
    "        for j in subsets:\n",
    "            j = set(j)\n",
    "            if j not in new:\n",
    "                result_list.remove(i)\n",
    "                break\n",
    "    return prune(k, result_list, new)\n",
    "\n",
    "\n",
    "\n",
    "\n",
    "c = [({1,2,3},2),({1,2,4},2),({1,3,4},2),({1,3,5},2),({2,3,4},2)]\n",
    "\n",
    "result_list = self_join(2, c)\n",
    "print(result_list)\n",
    "\n"
   ]
  },
  {
   "cell_type": "code",
   "execution_count": null,
   "metadata": {},
   "outputs": [
    {
     "name": "stdout",
     "output_type": "stream",
     "text": [
      "[({0, 1}, 1), ({0, 2}, 2), ({0, 4}, 1), ({1, 2}, 2), ({1, 4}, 3), ({2, 4}, 2)]\n",
      "[({1, 2, 4}, 2)]\n"
     ]
    }
   ],
   "source": [
    "from itertools import combinations, product\n",
    "support = 2\n",
    "database = [['t','','t','t',''],\n",
    "            ['','t','t','','t'],\n",
    "            ['t','t','t','','t'],\n",
    "            ['','t','','','t']]\n",
    "data = []\n",
    "for i in range(len(database)):\n",
    "    data.append((i,set()))\n",
    "\n",
    "# makes the database to workable format\n",
    "for i in range(len(database)):\n",
    "    for j in range(len(database[i])):\n",
    "        if database[i][j] == 't':\n",
    "           data[i][1].add(j)   \n",
    "k = 1\n",
    "c = []\n",
    "for i in range(len(database[0])):\n",
    "    c.append(({i},0))\n",
    "\n",
    "for i in range(len(c)):\n",
    "    for j in range(len(data)):\n",
    "        if c[i][0].issubset(data[j][1]):\n",
    "            c[i] = (c[i][0],c[i][1]+1)\n",
    "\n",
    "########################\n",
    "\n",
    "result_list = self_join(0,c)\n",
    "\n",
    "c = count_apperance(result_list, data, support)\n",
    "print(c)\n",
    "#################################\n",
    "\n",
    "result_list = self_join(1,c)\n",
    "\n",
    "c = count_apperance(result_list, data, support)\n",
    "print(c)"
   ]
  }
 ],
 "metadata": {
  "kernelspec": {
   "display_name": "Python 3 (ipykernel)",
   "language": "python",
   "name": "python3"
  },
  "language_info": {
   "codemirror_mode": {
    "name": "ipython",
    "version": 3
   },
   "file_extension": ".py",
   "mimetype": "text/x-python",
   "name": "python",
   "nbconvert_exporter": "python",
   "pygments_lexer": "ipython3",
   "version": "3.10.12"
  }
 },
 "nbformat": 4,
 "nbformat_minor": 2
}
