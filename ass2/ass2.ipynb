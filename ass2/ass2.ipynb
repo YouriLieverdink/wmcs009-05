{
 "cells": [
  {
   "cell_type": "code",
   "execution_count": 131,
   "metadata": {},
   "outputs": [],
   "source": [
    "def count_apperance(result_list,data):\n",
    "    c = []\n",
    "    for i in result_list:\n",
    "        c.append((i,0))\n",
    "\n",
    "    for i in range(len(c)):\n",
    "        for j in range(len(data)):\n",
    "            if c[i][0].issubset(data[j][1]):\n",
    "                c[i] = (c[i][0],c[i][1]+1)\n",
    "    return c"
   ]
  },
  {
   "cell_type": "code",
   "execution_count": 132,
   "metadata": {},
   "outputs": [],
   "source": [
    "def self_join(k, c):\n",
    "    l = [item for item in c if item[1] >= 2]\n",
    "\n",
    "\n",
    "    new = [i[0] for i in l]\n",
    "    result_list = []\n",
    "    # new = [{0,2,3},{0,1,2},{0,1,4},{1,2,4},{0,2,4}, {0,1,5}]\n",
    "    for i in range(len(new)):\n",
    "        for j in range(i+1, len(new)):\n",
    "                    temp1 = list(new[i])\n",
    "                    temp2 = list(new[j])\n",
    "                    if(temp1[0:k-1] == temp2[0:k-1]):\n",
    "                        joined = set(temp1 + temp2)\n",
    "                        result_list.append(joined)\n",
    "                        #second step of pruning is still missing see slide 39\n",
    "    return result_list"
   ]
  },
  {
   "cell_type": "code",
   "execution_count": 133,
   "metadata": {},
   "outputs": [
    {
     "name": "stdout",
     "output_type": "stream",
     "text": [
      "[({1, 2, 4}, 2)]\n"
     ]
    }
   ],
   "source": [
    "from itertools import combinations, product\n",
    "\n",
    "database = [['t','','t','t',''],\n",
    "            ['','t','t','','t'],\n",
    "            ['t','t','t','','t'],\n",
    "            ['','t','','','t']]\n",
    "data = []\n",
    "for i in range(len(database)):\n",
    "    data.append((i,set()))\n",
    "\n",
    "# makes the database to workable format\n",
    "for i in range(len(database)):\n",
    "    for j in range(len(database[i])):\n",
    "        if database[i][j] == 't':\n",
    "           data[i][1].add(j)   \n",
    "k = 1\n",
    "c = []\n",
    "for i in range(len(database[0])):\n",
    "    c.append(({i},0))\n",
    "\n",
    "for i in range(len(c)):\n",
    "    for j in range(len(data)):\n",
    "        if c[i][0].issubset(data[j][1]):\n",
    "            c[i] = (c[i][0],c[i][1]+1)\n",
    "\n",
    "########################\n",
    "result_list = self_join(1,c)\n",
    "\n",
    "c = count_apperance(result_list, data)\n",
    "\n",
    "#################################\n",
    "result_list = self_join(2,c)\n",
    "\n",
    "c = count_apperance(result_list, data)\n",
    "print(c)"
   ]
  }
 ],
 "metadata": {
  "kernelspec": {
   "display_name": "Python 3 (ipykernel)",
   "language": "python",
   "name": "python3"
  },
  "language_info": {
   "codemirror_mode": {
    "name": "ipython",
    "version": 3
   },
   "file_extension": ".py",
   "mimetype": "text/x-python",
   "name": "python",
   "nbconvert_exporter": "python",
   "pygments_lexer": "ipython3",
   "version": "3.10.12"
  }
 },
 "nbformat": 4,
 "nbformat_minor": 2
}
