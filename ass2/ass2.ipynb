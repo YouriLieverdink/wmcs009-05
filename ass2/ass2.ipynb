{
 "cells": [
  {
   "cell_type": "code",
   "execution_count": 16,
   "metadata": {},
   "outputs": [],
   "source": [
    "def count_apperance(result_list,data):\n",
    "    c = []\n",
    "    for i in result_list:\n",
    "        c.append((i,0))\n",
    "\n",
    "    for i in range(len(c)):\n",
    "        for j in range(len(data)):\n",
    "            if c[i][0].issubset(data[j][1]):\n",
    "                c[i] = (c[i][0],c[i][1]+1)\n",
    "    return c"
   ]
  },
  {
   "cell_type": "code",
   "execution_count": 18,
   "metadata": {},
   "outputs": [],
   "source": [
    "def self_join(k, c):\n",
    "    l = [item for item in c if item[1] >= 2]\n",
    "\n",
    "\n",
    "    new = [i[0] for i in l]\n",
    "    result_list = []\n",
    "    # new = [{0,2,3},{0,1,2},{0,1,4},{1,2,4},{0,2,4}, {0,1,5}]\n",
    "    for i in range(len(new)):\n",
    "        for j in range(i+1, len(new)):\n",
    "                    temp1 = list(new[i])\n",
    "                    temp2 = list(new[j])\n",
    "                    if(temp1[0:k-1] == temp2[0:k-1]):\n",
    "                        joined = set(temp1 + temp2)\n",
    "                        result_list.append(joined)\n",
    "                        #second step of pruning is still missing see slide 39\n",
    "    return result_list"
   ]
  },
  {
   "cell_type": "code",
   "execution_count": 1,
   "metadata": {},
   "outputs": [
    {
     "name": "stderr",
     "output_type": "stream",
     "text": [
      "IOPub data rate exceeded.\n",
      "The Jupyter server will temporarily stop sending output\n",
      "to the client in order to avoid crashing it.\n",
      "To change this limit, set the config variable\n",
      "`--ServerApp.iopub_data_rate_limit`.\n",
      "\n",
      "Current values:\n",
      "ServerApp.iopub_data_rate_limit=1000000.0 (bytes/sec)\n",
      "ServerApp.rate_limit_window=3.0 (secs)\n",
      "\n"
     ]
    },
    {
     "ename": "IndexError",
     "evalue": "list index out of range",
     "output_type": "error",
     "traceback": [
      "\u001b[0;31m---------------------------------------------------------------------------\u001b[0m",
      "\u001b[0;31mIndexError\u001b[0m                                Traceback (most recent call last)",
      "Cell \u001b[0;32mIn[1], line 21\u001b[0m\n\u001b[1;32m     19\u001b[0m k \u001b[38;5;241m=\u001b[39m \u001b[38;5;241m1\u001b[39m\n\u001b[1;32m     20\u001b[0m c \u001b[38;5;241m=\u001b[39m []\n\u001b[0;32m---> 21\u001b[0m \u001b[38;5;28;01mfor\u001b[39;00m i \u001b[38;5;129;01min\u001b[39;00m \u001b[38;5;28mrange\u001b[39m(\u001b[38;5;28mlen\u001b[39m(\u001b[43mdatabase\u001b[49m\u001b[43m[\u001b[49m\u001b[38;5;241;43m0\u001b[39;49m\u001b[43m]\u001b[49m)):\n\u001b[1;32m     22\u001b[0m     c\u001b[38;5;241m.\u001b[39mappend(({i},\u001b[38;5;241m0\u001b[39m))\n\u001b[1;32m     24\u001b[0m \u001b[38;5;28;01mfor\u001b[39;00m i \u001b[38;5;129;01min\u001b[39;00m \u001b[38;5;28mrange\u001b[39m(\u001b[38;5;28mlen\u001b[39m(c)):\n",
      "\u001b[0;31mIndexError\u001b[0m: list index out of range"
     ]
    }
   ],
   "source": [
    "from itertools import combinations, product\n",
    "import csv\n",
    "\n",
    "database = []\n",
    "with open('myDataFile.csv', 'r') as file:\n",
    "    reader = csv.reader(file)\n",
    "    for row in reader:\n",
    "        database.append(row)\n",
    "\n",
    "data = []\n",
    "for i in range(len(database)):\n",
    "    data.append((i,set()))\n",
    "\n",
    "# makes the database to workable format\n",
    "for i in range(len(database)):\n",
    "    for j in range(len(database[i])):\n",
    "        if database[i][j] == 't':\n",
    "           data[i][1].add(j)   \n",
    "k = 1\n",
    "c = []\n",
    "for i in range(len(database[0])):\n",
    "    c.append(({i},0))\n",
    "\n",
    "for i in range(len(c)):\n",
    "    for j in range(len(data)):\n",
    "        if c[i][0].issubset(data[j][1]):\n",
    "            c[i] = (c[i][0],c[i][1]+1)\n",
    "\n",
    "########################\n",
    "result_list = self_join(1,c)\n",
    "\n",
    "c = count_apperance(result_list, data)\n",
    "\n",
    "#################################\n",
    "result_list = self_join(2,c)\n",
    "\n",
    "c = count_apperance(result_list, data)\n",
    "print(c)"
   ]
  },
  {
   "cell_type": "code",
   "execution_count": null,
   "metadata": {},
   "outputs": [],
   "source": []
  }
 ],
 "metadata": {
  "kernelspec": {
   "display_name": "Python 3 (ipykernel)",
   "language": "python",
   "name": "python3"
  },
  "language_info": {
   "codemirror_mode": {
    "name": "ipython",
    "version": 3
   },
   "file_extension": ".py",
   "mimetype": "text/x-python",
   "name": "python",
   "nbconvert_exporter": "python",
   "pygments_lexer": "ipython3",
   "version": "3.12.0"
  }
 },
 "nbformat": 4,
 "nbformat_minor": 4
}
