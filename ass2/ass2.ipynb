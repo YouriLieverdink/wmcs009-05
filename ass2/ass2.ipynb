{
 "cells": [
  {
   "cell_type": "code",
   "execution_count": 211,
   "metadata": {},
   "outputs": [],
   "source": [
    "def count_apperance(result_list,data):\n",
    "    c = []\n",
    "    for i in result_list:\n",
    "        c.append((i,0))\n",
    "\n",
    "    for i in range(len(c)):\n",
    "        for j in range(len(data)):\n",
    "            if c[i][0].issubset(data[j][1]):\n",
    "                c[i] = (c[i][0],c[i][1]+1)\n",
    "    return c"
   ]
  },
  {
   "cell_type": "code",
   "execution_count": 212,
   "metadata": {},
   "outputs": [
    {
     "name": "stdout",
     "output_type": "stream",
     "text": [
      "[{1, 2, 3, 4}]\n"
     ]
    }
   ],
   "source": [
    "from itertools import combinations\n",
    "\n",
    "def prune(k, result_list, new):\n",
    "    for i in result_list:\n",
    "        subsets = set(combinations(i,k))\n",
    "        for j in subsets:\n",
    "            j = set(j)\n",
    "            if j not in new:\n",
    "                result_list.remove(i)\n",
    "                break\n",
    "    return result_list\n",
    "\n",
    "def self_join(k, c, support):\n",
    "    new = [i[0] for i in c]\n",
    "    result_list = []\n",
    "    for i in range(len(new)):\n",
    "        for j in range(i+1, len(new)):\n",
    "                    temp1 = list(new[i])\n",
    "                    temp2 = list(new[j])\n",
    "                    if(temp1[0:k] == temp2[0:k]):\n",
    "                        joined = set(temp1 + temp2)\n",
    "                        result_list.append(joined)\n",
    "                        \n",
    "                        #second step of pruning is still missing see slide 39\n",
    "    \n",
    "    return prune(k+1, result_list, new)\n",
    "\n",
    "\n",
    "\n",
    "\n",
    "c = [({1,2,3},2),({1,2,4},2),({1,3,4},2),({1,3,5},2),({2,3,4},2)]\n",
    "\n",
    "result_list = self_join(2, c, 2)\n",
    "print(result_list)"
   ]
  },
  {
   "cell_type": "code",
   "execution_count": 213,
   "metadata": {},
   "outputs": [
    {
     "name": "stdout",
     "output_type": "stream",
     "text": [
      "[({'other_vegetables', 'root_vegetables', 'whole_milk', 'citrus_fruit'}, 57), ({'other_vegetables', 'tropical_fruit', 'whole_milk', 'citrus_fruit'}, 49), ({'other_vegetables', 'fruit_vegetable_juice', 'yogurt', 'whole_milk'}, 50), ({'rolls_buns', 'other_vegetables', 'root_vegetables', 'whole_milk'}, 61), ({'rolls_buns', 'other_vegetables', 'yogurt', 'whole_milk'}, 59), ({'other_vegetables', 'tropical_fruit', 'yogurt', 'root_vegetables'}, 49), ({'other_vegetables', 'pip_fruit', 'root_vegetables', 'whole_milk'}, 54), ({'other_vegetables', 'tropical_fruit', 'root_vegetables', 'whole_milk'}, 69), ({'other_vegetables', 'yogurt', 'root_vegetables', 'whole_milk'}, 77), ({'other_vegetables', 'root_vegetables', 'whole_milk', 'whipped_sour_cream'}, 51), ({'other_vegetables', 'yogurt', 'whole_milk', 'whipped_sour_cream'}, 55), ({'pip_fruit', 'other_vegetables', 'yogurt', 'whole_milk'}, 50), ({'other_vegetables', 'tropical_fruit', 'yogurt', 'whole_milk'}, 75), ({'tropical_fruit', 'yogurt', 'root_vegetables', 'whole_milk'}, 56)]\n"
     ]
    }
   ],
   "source": [
    "from itertools import combinations, product\n",
    "\n",
    "import csv\n",
    "\n",
    "def important_print(more, c):\n",
    "    for i in c:\n",
    "        if i[1] == more:\n",
    "            print(i)\n",
    "\n",
    "def numberToName(c, names):\n",
    "    output = []\n",
    "    for i in range(len(c)):          \n",
    "        new = set()\n",
    "        for number in c[i][0]:\n",
    "            new.add(names[number])\n",
    "        output.append((new,c[i][1]))\n",
    "    return output\n",
    "\n",
    "\n",
    "file_path = 'aap.txt'  # Replace 'your_file.txt' with the path to your text file\n",
    "\n",
    "# Open the file in read mode\n",
    "with open(file_path, 'r') as file:\n",
    "    # Read all lines from the file\n",
    "    lines = file.readlines()\n",
    "\n",
    "# Extract names from the lines, skipping the index at the beginning\n",
    "products = [line.split()[1].strip() for line in lines]\n",
    "\n",
    "\n",
    "\n",
    "\n",
    "\n",
    "database = []\n",
    "with open('myDataFile.csv', 'r') as file:\n",
    "    reader = csv.reader(file)\n",
    "    for row in reader:\n",
    "        database.append(row)\n",
    "# database = [['t','','t','t',''],\n",
    "#             ['','t','t','','t'],\n",
    "#             ['t','t','t','','t'],\n",
    "#             ['','t','','','t']]\n",
    "\n",
    "support = 49\n",
    "\n",
    "data = []\n",
    "for i in range(len(database)):\n",
    "    data.append((i,set()))\n",
    "\n",
    "# makes the database to workable format\n",
    "for i in range(len(database)):\n",
    "    for j in range(len(database[i])):\n",
    "        if database[i][j] == 't':\n",
    "           data[i][1].add(j)   \n",
    "k = 1\n",
    "c = []\n",
    "for i in range(len(database[0])):\n",
    "    c.append(({i},0))\n",
    "\n",
    "for i in range(len(c)):\n",
    "    for j in range(len(data)):\n",
    "        if c[i][0].issubset(data[j][1]):\n",
    "            c[i] = (c[i][0],c[i][1]+1)\n",
    "names = numberToName(c, products)\n",
    "\n",
    "k = 0\n",
    "while c:\n",
    "    result_list = self_join(k,c, support)\n",
    "    c = count_apperance(result_list, data)\n",
    "    c = [item for item in c if item[1] >= support]\n",
    "    if c:\n",
    "        names = numberToName(c, products)\n",
    "        \n",
    "    k+=1\n",
    "\n",
    "print(names)\n"
   ]
  }
 ],
 "metadata": {
  "kernelspec": {
   "display_name": "Python 3 (ipykernel)",
   "language": "python",
   "name": "python3"
  },
  "language_info": {
   "codemirror_mode": {
    "name": "ipython",
    "version": 3
   },
   "file_extension": ".py",
   "mimetype": "text/x-python",
   "name": "python",
   "nbconvert_exporter": "python",
   "pygments_lexer": "ipython3",
   "version": "3.12.0"
  }
 },
 "nbformat": 4,
 "nbformat_minor": 4
}
